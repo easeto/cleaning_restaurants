{
 "cells": [
  {
   "cell_type": "code",
   "execution_count": 54,
   "metadata": {},
   "outputs": [],
   "source": [
    "import numpy as np\n",
    "import pandas as pd"
   ]
  },
  {
   "cell_type": "code",
   "execution_count": 55,
   "metadata": {},
   "outputs": [],
   "source": [
    "rsts = pd.read_excel('chinese_restaurants_yelp.xlsx', sheet_name=None, index_col=False)\n",
    "df = pd.concat(rsts.values())"
   ]
  },
  {
   "cell_type": "code",
   "execution_count": 56,
   "metadata": {},
   "outputs": [
    {
     "data": {
      "text/plain": [
       "(40293, 7)"
      ]
     },
     "execution_count": 56,
     "metadata": {},
     "output_type": "execute_result"
    }
   ],
   "source": [
    "df.shape"
   ]
  },
  {
   "cell_type": "code",
   "execution_count": 57,
   "metadata": {},
   "outputs": [
    {
     "data": {
      "text/html": [
       "<div>\n",
       "<style scoped>\n",
       "    .dataframe tbody tr th:only-of-type {\n",
       "        vertical-align: middle;\n",
       "    }\n",
       "\n",
       "    .dataframe tbody tr th {\n",
       "        vertical-align: top;\n",
       "    }\n",
       "\n",
       "    .dataframe thead th {\n",
       "        text-align: right;\n",
       "    }\n",
       "</style>\n",
       "<table border=\"1\" class=\"dataframe\">\n",
       "  <thead>\n",
       "    <tr style=\"text-align: right;\">\n",
       "      <th></th>\n",
       "      <th>selection1_name</th>\n",
       "      <th>selection1_url</th>\n",
       "      <th>selection1_street</th>\n",
       "      <th>selection1_street_url</th>\n",
       "      <th>selection1_city_state</th>\n",
       "      <th>selection1_intersection</th>\n",
       "      <th>Unnamed: 5</th>\n",
       "    </tr>\n",
       "  </thead>\n",
       "  <tbody>\n",
       "    <tr>\n",
       "      <th>0</th>\n",
       "      <td>Sichuanese Cuisine</td>\n",
       "      <td>https://www.yelp.com/adredir?ad_business_id=hj...</td>\n",
       "      <td>1048 S Jackson St</td>\n",
       "      <td>https://www.yelp.com/map/sichuanese-cuisine-se...</td>\n",
       "      <td>Seattle, WA 98104</td>\n",
       "      <td>Little Saigon, Chinatown International District</td>\n",
       "      <td>NaN</td>\n",
       "    </tr>\n",
       "    <tr>\n",
       "      <th>1</th>\n",
       "      <td>Royal Dumplings House</td>\n",
       "      <td>https://www.yelp.com/adredir?ad_business_id=2e...</td>\n",
       "      <td>14725 Aurora Ave N</td>\n",
       "      <td>https://www.yelp.com/map/royal-dumplings-house...</td>\n",
       "      <td>Shoreline, WA 98133</td>\n",
       "      <td>149th St &amp; 145th St</td>\n",
       "      <td>NaN</td>\n",
       "    </tr>\n",
       "    <tr>\n",
       "      <th>2</th>\n",
       "      <td>Xiâ€™an Noodles</td>\n",
       "      <td>https://www.yelp.com/biz/xian-noodles-seattle-...</td>\n",
       "      <td>5259 University Way NE</td>\n",
       "      <td>https://www.yelp.com/map/xian-noodles-seattle-9</td>\n",
       "      <td>Seattle, WA 98105</td>\n",
       "      <td>University District</td>\n",
       "      <td>NaN</td>\n",
       "    </tr>\n",
       "    <tr>\n",
       "      <th>3</th>\n",
       "      <td>Harbor City Restaurant</td>\n",
       "      <td>https://www.yelp.com/biz/harbor-city-restauran...</td>\n",
       "      <td>707 S King St</td>\n",
       "      <td>https://www.yelp.com/map/harbor-city-restauran...</td>\n",
       "      <td>Seattle, WA 98104</td>\n",
       "      <td>Chinatown, Chinatown International District</td>\n",
       "      <td>NaN</td>\n",
       "    </tr>\n",
       "    <tr>\n",
       "      <th>4</th>\n",
       "      <td>Sichuanese Cuisine</td>\n",
       "      <td>https://www.yelp.com/biz/sichuanese-cuisine-se...</td>\n",
       "      <td>1048 S Jackson St</td>\n",
       "      <td>https://www.yelp.com/map/sichuanese-cuisine-se...</td>\n",
       "      <td>Seattle, WA 98104</td>\n",
       "      <td>Little Saigon, Chinatown International District</td>\n",
       "      <td>NaN</td>\n",
       "    </tr>\n",
       "    <tr>\n",
       "      <th>...</th>\n",
       "      <td>...</td>\n",
       "      <td>...</td>\n",
       "      <td>...</td>\n",
       "      <td>...</td>\n",
       "      <td>...</td>\n",
       "      <td>...</td>\n",
       "      <td>...</td>\n",
       "    </tr>\n",
       "    <tr>\n",
       "      <th>995</th>\n",
       "      <td>Teriyaki 2U</td>\n",
       "      <td>https://www.yelp.com/biz/teriyaki-2u-auburn?os...</td>\n",
       "      <td>4017 A St SE</td>\n",
       "      <td>https://www.yelp.com/map/teriyaki-2u-auburn</td>\n",
       "      <td>Auburn, WA 98002</td>\n",
       "      <td>S 41st St &amp; Laurelwood Rd</td>\n",
       "      <td>NaN</td>\n",
       "    </tr>\n",
       "    <tr>\n",
       "      <th>996</th>\n",
       "      <td>Midori Teriyaki Wok</td>\n",
       "      <td>https://www.yelp.com/biz/midori-teriyaki-wok-a...</td>\n",
       "      <td>1202 Supermall Way</td>\n",
       "      <td>https://www.yelp.com/map/midori-teriyaki-wok-a...</td>\n",
       "      <td>Auburn, WA 98001</td>\n",
       "      <td>S 15th St &amp; O St</td>\n",
       "      <td>NaN</td>\n",
       "    </tr>\n",
       "    <tr>\n",
       "      <th>997</th>\n",
       "      <td>Wok &amp; Teriyaki House</td>\n",
       "      <td>https://www.yelp.com/biz/wok-and-teriyaki-hous...</td>\n",
       "      <td>420 Ellingson Rd</td>\n",
       "      <td>https://www.yelp.com/map/wok-and-teriyaki-hous...</td>\n",
       "      <td>Pacific, WA 98047</td>\n",
       "      <td>N Frontage Rd &amp; N Seattle Blvd</td>\n",
       "      <td>NaN</td>\n",
       "    </tr>\n",
       "    <tr>\n",
       "      <th>998</th>\n",
       "      <td>Apple Teriyaki</td>\n",
       "      <td>https://www.yelp.com/biz/apple-teriyaki-puyall...</td>\n",
       "      <td>5604 176th St E</td>\n",
       "      <td>https://www.yelp.com/map/apple-teriyaki-puyallup</td>\n",
       "      <td>Puyallup, WA 98375</td>\n",
       "      <td>NaN</td>\n",
       "      <td>NaN</td>\n",
       "    </tr>\n",
       "    <tr>\n",
       "      <th>999</th>\n",
       "      <td>Old Saigon Pho Restaurant</td>\n",
       "      <td>https://www.yelp.com/biz/old-saigon-pho-restau...</td>\n",
       "      <td>971 Industry Dr</td>\n",
       "      <td>https://www.yelp.com/map/old-saigon-pho-restau...</td>\n",
       "      <td>Tukwila, WA 98188</td>\n",
       "      <td>Minkler Blvd</td>\n",
       "      <td>NaN</td>\n",
       "    </tr>\n",
       "  </tbody>\n",
       "</table>\n",
       "<p>1000 rows × 7 columns</p>\n",
       "</div>"
      ],
      "text/plain": [
       "               selection1_name  \\\n",
       "0           Sichuanese Cuisine   \n",
       "1        Royal Dumplings House   \n",
       "2              Xiâ€™an Noodles   \n",
       "3       Harbor City Restaurant   \n",
       "4           Sichuanese Cuisine   \n",
       "..                         ...   \n",
       "995                Teriyaki 2U   \n",
       "996        Midori Teriyaki Wok   \n",
       "997       Wok & Teriyaki House   \n",
       "998             Apple Teriyaki   \n",
       "999  Old Saigon Pho Restaurant   \n",
       "\n",
       "                                        selection1_url  \\\n",
       "0    https://www.yelp.com/adredir?ad_business_id=hj...   \n",
       "1    https://www.yelp.com/adredir?ad_business_id=2e...   \n",
       "2    https://www.yelp.com/biz/xian-noodles-seattle-...   \n",
       "3    https://www.yelp.com/biz/harbor-city-restauran...   \n",
       "4    https://www.yelp.com/biz/sichuanese-cuisine-se...   \n",
       "..                                                 ...   \n",
       "995  https://www.yelp.com/biz/teriyaki-2u-auburn?os...   \n",
       "996  https://www.yelp.com/biz/midori-teriyaki-wok-a...   \n",
       "997  https://www.yelp.com/biz/wok-and-teriyaki-hous...   \n",
       "998  https://www.yelp.com/biz/apple-teriyaki-puyall...   \n",
       "999  https://www.yelp.com/biz/old-saigon-pho-restau...   \n",
       "\n",
       "          selection1_street  \\\n",
       "0         1048 S Jackson St   \n",
       "1        14725 Aurora Ave N   \n",
       "2    5259 University Way NE   \n",
       "3             707 S King St   \n",
       "4         1048 S Jackson St   \n",
       "..                      ...   \n",
       "995            4017 A St SE   \n",
       "996      1202 Supermall Way   \n",
       "997        420 Ellingson Rd   \n",
       "998         5604 176th St E   \n",
       "999         971 Industry Dr   \n",
       "\n",
       "                                 selection1_street_url selection1_city_state  \\\n",
       "0    https://www.yelp.com/map/sichuanese-cuisine-se...     Seattle, WA 98104   \n",
       "1    https://www.yelp.com/map/royal-dumplings-house...   Shoreline, WA 98133   \n",
       "2      https://www.yelp.com/map/xian-noodles-seattle-9     Seattle, WA 98105   \n",
       "3    https://www.yelp.com/map/harbor-city-restauran...     Seattle, WA 98104   \n",
       "4    https://www.yelp.com/map/sichuanese-cuisine-se...     Seattle, WA 98104   \n",
       "..                                                 ...                   ...   \n",
       "995        https://www.yelp.com/map/teriyaki-2u-auburn      Auburn, WA 98002   \n",
       "996  https://www.yelp.com/map/midori-teriyaki-wok-a...      Auburn, WA 98001   \n",
       "997  https://www.yelp.com/map/wok-and-teriyaki-hous...     Pacific, WA 98047   \n",
       "998   https://www.yelp.com/map/apple-teriyaki-puyallup    Puyallup, WA 98375   \n",
       "999  https://www.yelp.com/map/old-saigon-pho-restau...     Tukwila, WA 98188   \n",
       "\n",
       "                             selection1_intersection Unnamed: 5  \n",
       "0    Little Saigon, Chinatown International District        NaN  \n",
       "1                                149th St & 145th St        NaN  \n",
       "2                                University District        NaN  \n",
       "3        Chinatown, Chinatown International District        NaN  \n",
       "4    Little Saigon, Chinatown International District        NaN  \n",
       "..                                               ...        ...  \n",
       "995                        S 41st St & Laurelwood Rd        NaN  \n",
       "996                                 S 15th St & O St        NaN  \n",
       "997                   N Frontage Rd & N Seattle Blvd        NaN  \n",
       "998                                              NaN        NaN  \n",
       "999                                     Minkler Blvd        NaN  \n",
       "\n",
       "[1000 rows x 7 columns]"
      ]
     },
     "execution_count": 57,
     "metadata": {},
     "output_type": "execute_result"
    }
   ],
   "source": [
    "df.head(1000)"
   ]
  },
  {
   "cell_type": "code",
   "execution_count": 58,
   "metadata": {},
   "outputs": [
    {
     "data": {
      "text/plain": [
       "Index(['selection1_name', 'selection1_url', 'selection1_street',\n",
       "       'selection1_street_url', 'selection1_city_state',\n",
       "       'selection1_intersection', 'Unnamed: 5'],\n",
       "      dtype='object')"
      ]
     },
     "execution_count": 58,
     "metadata": {},
     "output_type": "execute_result"
    }
   ],
   "source": [
    "df.columns"
   ]
  },
  {
   "cell_type": "code",
   "execution_count": 59,
   "metadata": {},
   "outputs": [
    {
     "data": {
      "text/html": [
       "<div>\n",
       "<style scoped>\n",
       "    .dataframe tbody tr th:only-of-type {\n",
       "        vertical-align: middle;\n",
       "    }\n",
       "\n",
       "    .dataframe tbody tr th {\n",
       "        vertical-align: top;\n",
       "    }\n",
       "\n",
       "    .dataframe thead th {\n",
       "        text-align: right;\n",
       "    }\n",
       "</style>\n",
       "<table border=\"1\" class=\"dataframe\">\n",
       "  <thead>\n",
       "    <tr style=\"text-align: right;\">\n",
       "      <th></th>\n",
       "      <th>name</th>\n",
       "      <th>street</th>\n",
       "      <th>city,statezip</th>\n",
       "    </tr>\n",
       "  </thead>\n",
       "  <tbody>\n",
       "    <tr>\n",
       "      <th>0</th>\n",
       "      <td>Sichuanese Cuisine</td>\n",
       "      <td>1048 S Jackson St</td>\n",
       "      <td>Seattle, WA 98104</td>\n",
       "    </tr>\n",
       "    <tr>\n",
       "      <th>1</th>\n",
       "      <td>Royal Dumplings House</td>\n",
       "      <td>14725 Aurora Ave N</td>\n",
       "      <td>Shoreline, WA 98133</td>\n",
       "    </tr>\n",
       "    <tr>\n",
       "      <th>2</th>\n",
       "      <td>Xiâ€™an Noodles</td>\n",
       "      <td>5259 University Way NE</td>\n",
       "      <td>Seattle, WA 98105</td>\n",
       "    </tr>\n",
       "    <tr>\n",
       "      <th>3</th>\n",
       "      <td>Harbor City Restaurant</td>\n",
       "      <td>707 S King St</td>\n",
       "      <td>Seattle, WA 98104</td>\n",
       "    </tr>\n",
       "    <tr>\n",
       "      <th>4</th>\n",
       "      <td>Sichuanese Cuisine</td>\n",
       "      <td>1048 S Jackson St</td>\n",
       "      <td>Seattle, WA 98104</td>\n",
       "    </tr>\n",
       "  </tbody>\n",
       "</table>\n",
       "</div>"
      ],
      "text/plain": [
       "                     name                  street        city,statezip\n",
       "0      Sichuanese Cuisine       1048 S Jackson St    Seattle, WA 98104\n",
       "1   Royal Dumplings House      14725 Aurora Ave N  Shoreline, WA 98133\n",
       "2         Xiâ€™an Noodles  5259 University Way NE    Seattle, WA 98105\n",
       "3  Harbor City Restaurant           707 S King St    Seattle, WA 98104\n",
       "4      Sichuanese Cuisine       1048 S Jackson St    Seattle, WA 98104"
      ]
     },
     "execution_count": 59,
     "metadata": {},
     "output_type": "execute_result"
    }
   ],
   "source": [
    "df.rename(columns={'selection1_name':'name','selection1_street':'street',\n",
    "                     'selection1_city_state':'city,statezip'}, inplace=True)\n",
    "\n",
    "df.drop(['selection1_url', 'selection1_street_url', 'selection1_intersection', 'Unnamed: 5'], axis=1, inplace=True)\n",
    "df.head()"
   ]
  },
  {
   "cell_type": "code",
   "execution_count": 60,
   "metadata": {},
   "outputs": [
    {
     "data": {
      "text/plain": [
       "name             object\n",
       "street           object\n",
       "city,statezip    object\n",
       "dtype: object"
      ]
     },
     "execution_count": 60,
     "metadata": {},
     "output_type": "execute_result"
    }
   ],
   "source": [
    "df.dtypes"
   ]
  },
  {
   "cell_type": "code",
   "execution_count": 61,
   "metadata": {},
   "outputs": [],
   "source": [
    "df.dropna(inplace = True)"
   ]
  },
  {
   "cell_type": "code",
   "execution_count": 62,
   "metadata": {},
   "outputs": [
    {
     "data": {
      "text/plain": [
       "(39337, 3)"
      ]
     },
     "execution_count": 62,
     "metadata": {},
     "output_type": "execute_result"
    }
   ],
   "source": [
    "df.shape"
   ]
  },
  {
   "cell_type": "code",
   "execution_count": 63,
   "metadata": {},
   "outputs": [],
   "source": [
    "df.drop_duplicates(subset=['name','street','city,statezip'], inplace=True)"
   ]
  },
  {
   "cell_type": "code",
   "execution_count": 64,
   "metadata": {},
   "outputs": [
    {
     "data": {
      "text/plain": [
       "(19544, 3)"
      ]
     },
     "execution_count": 64,
     "metadata": {},
     "output_type": "execute_result"
    }
   ],
   "source": [
    "df.shape"
   ]
  },
  {
   "cell_type": "code",
   "execution_count": 67,
   "metadata": {},
   "outputs": [
    {
     "data": {
      "text/plain": [
       "Index(['name', 'street', 'city,statezip'], dtype='object')"
      ]
     },
     "execution_count": 67,
     "metadata": {},
     "output_type": "execute_result"
    }
   ],
   "source": [
    "df.columns"
   ]
  },
  {
   "cell_type": "code",
   "execution_count": 72,
   "metadata": {},
   "outputs": [],
   "source": [
    "df = df[(df.name != 'Panda Express') & (df.name != 'Pei Wei') & (df.name != 'KFC') & (df.name != 'selection1_name')\n",
    "        & (df.name != 'selection1_street') & (df.name != 'selection1_city_state') & (df.name.str.contains('P.F. Chang') == False)]"
   ]
  },
  {
   "cell_type": "code",
   "execution_count": 73,
   "metadata": {},
   "outputs": [
    {
     "data": {
      "text/plain": [
       "(18572, 3)"
      ]
     },
     "execution_count": 73,
     "metadata": {},
     "output_type": "execute_result"
    }
   ],
   "source": [
    "df.shape"
   ]
  },
  {
   "cell_type": "code",
   "execution_count": 74,
   "metadata": {},
   "outputs": [],
   "source": [
    "df.to_excel (r'C:\\Users\\Ethan Seto\\Documents\\restaurants_ivy\\yelp_data\\chinese_restaurants.xlsx', index = False, header=True)"
   ]
  },
  {
   "cell_type": "code",
   "execution_count": null,
   "metadata": {},
   "outputs": [],
   "source": []
  }
 ],
 "metadata": {
  "kernelspec": {
   "display_name": "Python 3",
   "language": "python",
   "name": "python3"
  },
  "language_info": {
   "codemirror_mode": {
    "name": "ipython",
    "version": 3
   },
   "file_extension": ".py",
   "mimetype": "text/x-python",
   "name": "python",
   "nbconvert_exporter": "python",
   "pygments_lexer": "ipython3",
   "version": "3.7.7"
  }
 },
 "nbformat": 4,
 "nbformat_minor": 4
}
