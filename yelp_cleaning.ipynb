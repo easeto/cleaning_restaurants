{
 "cells": [
  {
   "cell_type": "code",
   "execution_count": 53,
   "metadata": {},
   "outputs": [],
   "source": [
    "import numpy as np\n",
    "import pandas as pd"
   ]
  },
  {
   "cell_type": "code",
   "execution_count": 54,
   "metadata": {},
   "outputs": [],
   "source": [
    "rsts = pd.read_excel('chinese_restaurants_yelp.xlsx', sheet_name=None, index_col=False)\n",
    "df = pd.concat(rsts.values())"
   ]
  },
  {
   "cell_type": "code",
   "execution_count": 55,
   "metadata": {},
   "outputs": [],
   "source": [
    "jap = pd.read_excel('japanese_restaurants_yelp.xlsx', sheet_name=None, index_col=False)\n",
    "df2 = pd.concat(jap.values())"
   ]
  },
  {
   "cell_type": "code",
   "execution_count": 56,
   "metadata": {},
   "outputs": [
    {
     "data": {
      "text/plain": [
       "(40293, 7)"
      ]
     },
     "execution_count": 56,
     "metadata": {},
     "output_type": "execute_result"
    }
   ],
   "source": [
    "df.shape"
   ]
  },
  {
   "cell_type": "code",
   "execution_count": 57,
   "metadata": {},
   "outputs": [
    {
     "data": {
      "text/html": [
       "<div>\n",
       "<style scoped>\n",
       "    .dataframe tbody tr th:only-of-type {\n",
       "        vertical-align: middle;\n",
       "    }\n",
       "\n",
       "    .dataframe tbody tr th {\n",
       "        vertical-align: top;\n",
       "    }\n",
       "\n",
       "    .dataframe thead th {\n",
       "        text-align: right;\n",
       "    }\n",
       "</style>\n",
       "<table border=\"1\" class=\"dataframe\">\n",
       "  <thead>\n",
       "    <tr style=\"text-align: right;\">\n",
       "      <th></th>\n",
       "      <th>selection1_name</th>\n",
       "      <th>selection1_url</th>\n",
       "      <th>selection1_street</th>\n",
       "      <th>selection1_street_url</th>\n",
       "      <th>selection1_city_state</th>\n",
       "      <th>selection1_intersection</th>\n",
       "      <th>Unnamed: 5</th>\n",
       "    </tr>\n",
       "  </thead>\n",
       "  <tbody>\n",
       "    <tr>\n",
       "      <th>0</th>\n",
       "      <td>Sichuanese Cuisine</td>\n",
       "      <td>https://www.yelp.com/adredir?ad_business_id=hj...</td>\n",
       "      <td>1048 S Jackson St</td>\n",
       "      <td>https://www.yelp.com/map/sichuanese-cuisine-se...</td>\n",
       "      <td>Seattle, WA 98104</td>\n",
       "      <td>Little Saigon, Chinatown International District</td>\n",
       "      <td>NaN</td>\n",
       "    </tr>\n",
       "    <tr>\n",
       "      <th>1</th>\n",
       "      <td>Royal Dumplings House</td>\n",
       "      <td>https://www.yelp.com/adredir?ad_business_id=2e...</td>\n",
       "      <td>14725 Aurora Ave N</td>\n",
       "      <td>https://www.yelp.com/map/royal-dumplings-house...</td>\n",
       "      <td>Shoreline, WA 98133</td>\n",
       "      <td>149th St &amp; 145th St</td>\n",
       "      <td>NaN</td>\n",
       "    </tr>\n",
       "    <tr>\n",
       "      <th>2</th>\n",
       "      <td>Xiâ€™an Noodles</td>\n",
       "      <td>https://www.yelp.com/biz/xian-noodles-seattle-...</td>\n",
       "      <td>5259 University Way NE</td>\n",
       "      <td>https://www.yelp.com/map/xian-noodles-seattle-9</td>\n",
       "      <td>Seattle, WA 98105</td>\n",
       "      <td>University District</td>\n",
       "      <td>NaN</td>\n",
       "    </tr>\n",
       "    <tr>\n",
       "      <th>3</th>\n",
       "      <td>Harbor City Restaurant</td>\n",
       "      <td>https://www.yelp.com/biz/harbor-city-restauran...</td>\n",
       "      <td>707 S King St</td>\n",
       "      <td>https://www.yelp.com/map/harbor-city-restauran...</td>\n",
       "      <td>Seattle, WA 98104</td>\n",
       "      <td>Chinatown, Chinatown International District</td>\n",
       "      <td>NaN</td>\n",
       "    </tr>\n",
       "    <tr>\n",
       "      <th>4</th>\n",
       "      <td>Sichuanese Cuisine</td>\n",
       "      <td>https://www.yelp.com/biz/sichuanese-cuisine-se...</td>\n",
       "      <td>1048 S Jackson St</td>\n",
       "      <td>https://www.yelp.com/map/sichuanese-cuisine-se...</td>\n",
       "      <td>Seattle, WA 98104</td>\n",
       "      <td>Little Saigon, Chinatown International District</td>\n",
       "      <td>NaN</td>\n",
       "    </tr>\n",
       "    <tr>\n",
       "      <th>...</th>\n",
       "      <td>...</td>\n",
       "      <td>...</td>\n",
       "      <td>...</td>\n",
       "      <td>...</td>\n",
       "      <td>...</td>\n",
       "      <td>...</td>\n",
       "      <td>...</td>\n",
       "    </tr>\n",
       "    <tr>\n",
       "      <th>995</th>\n",
       "      <td>Teriyaki 2U</td>\n",
       "      <td>https://www.yelp.com/biz/teriyaki-2u-auburn?os...</td>\n",
       "      <td>4017 A St SE</td>\n",
       "      <td>https://www.yelp.com/map/teriyaki-2u-auburn</td>\n",
       "      <td>Auburn, WA 98002</td>\n",
       "      <td>S 41st St &amp; Laurelwood Rd</td>\n",
       "      <td>NaN</td>\n",
       "    </tr>\n",
       "    <tr>\n",
       "      <th>996</th>\n",
       "      <td>Midori Teriyaki Wok</td>\n",
       "      <td>https://www.yelp.com/biz/midori-teriyaki-wok-a...</td>\n",
       "      <td>1202 Supermall Way</td>\n",
       "      <td>https://www.yelp.com/map/midori-teriyaki-wok-a...</td>\n",
       "      <td>Auburn, WA 98001</td>\n",
       "      <td>S 15th St &amp; O St</td>\n",
       "      <td>NaN</td>\n",
       "    </tr>\n",
       "    <tr>\n",
       "      <th>997</th>\n",
       "      <td>Wok &amp; Teriyaki House</td>\n",
       "      <td>https://www.yelp.com/biz/wok-and-teriyaki-hous...</td>\n",
       "      <td>420 Ellingson Rd</td>\n",
       "      <td>https://www.yelp.com/map/wok-and-teriyaki-hous...</td>\n",
       "      <td>Pacific, WA 98047</td>\n",
       "      <td>N Frontage Rd &amp; N Seattle Blvd</td>\n",
       "      <td>NaN</td>\n",
       "    </tr>\n",
       "    <tr>\n",
       "      <th>998</th>\n",
       "      <td>Apple Teriyaki</td>\n",
       "      <td>https://www.yelp.com/biz/apple-teriyaki-puyall...</td>\n",
       "      <td>5604 176th St E</td>\n",
       "      <td>https://www.yelp.com/map/apple-teriyaki-puyallup</td>\n",
       "      <td>Puyallup, WA 98375</td>\n",
       "      <td>NaN</td>\n",
       "      <td>NaN</td>\n",
       "    </tr>\n",
       "    <tr>\n",
       "      <th>999</th>\n",
       "      <td>Old Saigon Pho Restaurant</td>\n",
       "      <td>https://www.yelp.com/biz/old-saigon-pho-restau...</td>\n",
       "      <td>971 Industry Dr</td>\n",
       "      <td>https://www.yelp.com/map/old-saigon-pho-restau...</td>\n",
       "      <td>Tukwila, WA 98188</td>\n",
       "      <td>Minkler Blvd</td>\n",
       "      <td>NaN</td>\n",
       "    </tr>\n",
       "  </tbody>\n",
       "</table>\n",
       "<p>1000 rows × 7 columns</p>\n",
       "</div>"
      ],
      "text/plain": [
       "               selection1_name  \\\n",
       "0           Sichuanese Cuisine   \n",
       "1        Royal Dumplings House   \n",
       "2              Xiâ€™an Noodles   \n",
       "3       Harbor City Restaurant   \n",
       "4           Sichuanese Cuisine   \n",
       "..                         ...   \n",
       "995                Teriyaki 2U   \n",
       "996        Midori Teriyaki Wok   \n",
       "997       Wok & Teriyaki House   \n",
       "998             Apple Teriyaki   \n",
       "999  Old Saigon Pho Restaurant   \n",
       "\n",
       "                                        selection1_url  \\\n",
       "0    https://www.yelp.com/adredir?ad_business_id=hj...   \n",
       "1    https://www.yelp.com/adredir?ad_business_id=2e...   \n",
       "2    https://www.yelp.com/biz/xian-noodles-seattle-...   \n",
       "3    https://www.yelp.com/biz/harbor-city-restauran...   \n",
       "4    https://www.yelp.com/biz/sichuanese-cuisine-se...   \n",
       "..                                                 ...   \n",
       "995  https://www.yelp.com/biz/teriyaki-2u-auburn?os...   \n",
       "996  https://www.yelp.com/biz/midori-teriyaki-wok-a...   \n",
       "997  https://www.yelp.com/biz/wok-and-teriyaki-hous...   \n",
       "998  https://www.yelp.com/biz/apple-teriyaki-puyall...   \n",
       "999  https://www.yelp.com/biz/old-saigon-pho-restau...   \n",
       "\n",
       "          selection1_street  \\\n",
       "0         1048 S Jackson St   \n",
       "1        14725 Aurora Ave N   \n",
       "2    5259 University Way NE   \n",
       "3             707 S King St   \n",
       "4         1048 S Jackson St   \n",
       "..                      ...   \n",
       "995            4017 A St SE   \n",
       "996      1202 Supermall Way   \n",
       "997        420 Ellingson Rd   \n",
       "998         5604 176th St E   \n",
       "999         971 Industry Dr   \n",
       "\n",
       "                                 selection1_street_url selection1_city_state  \\\n",
       "0    https://www.yelp.com/map/sichuanese-cuisine-se...     Seattle, WA 98104   \n",
       "1    https://www.yelp.com/map/royal-dumplings-house...   Shoreline, WA 98133   \n",
       "2      https://www.yelp.com/map/xian-noodles-seattle-9     Seattle, WA 98105   \n",
       "3    https://www.yelp.com/map/harbor-city-restauran...     Seattle, WA 98104   \n",
       "4    https://www.yelp.com/map/sichuanese-cuisine-se...     Seattle, WA 98104   \n",
       "..                                                 ...                   ...   \n",
       "995        https://www.yelp.com/map/teriyaki-2u-auburn      Auburn, WA 98002   \n",
       "996  https://www.yelp.com/map/midori-teriyaki-wok-a...      Auburn, WA 98001   \n",
       "997  https://www.yelp.com/map/wok-and-teriyaki-hous...     Pacific, WA 98047   \n",
       "998   https://www.yelp.com/map/apple-teriyaki-puyallup    Puyallup, WA 98375   \n",
       "999  https://www.yelp.com/map/old-saigon-pho-restau...     Tukwila, WA 98188   \n",
       "\n",
       "                             selection1_intersection Unnamed: 5  \n",
       "0    Little Saigon, Chinatown International District        NaN  \n",
       "1                                149th St & 145th St        NaN  \n",
       "2                                University District        NaN  \n",
       "3        Chinatown, Chinatown International District        NaN  \n",
       "4    Little Saigon, Chinatown International District        NaN  \n",
       "..                                               ...        ...  \n",
       "995                        S 41st St & Laurelwood Rd        NaN  \n",
       "996                                 S 15th St & O St        NaN  \n",
       "997                   N Frontage Rd & N Seattle Blvd        NaN  \n",
       "998                                              NaN        NaN  \n",
       "999                                     Minkler Blvd        NaN  \n",
       "\n",
       "[1000 rows x 7 columns]"
      ]
     },
     "execution_count": 57,
     "metadata": {},
     "output_type": "execute_result"
    }
   ],
   "source": [
    "df.head(1000)"
   ]
  },
  {
   "cell_type": "code",
   "execution_count": 58,
   "metadata": {},
   "outputs": [
    {
     "data": {
      "text/plain": [
       "Index(['selection1_name', 'selection1_url', 'selection1_street',\n",
       "       'selection1_street_url', 'selection1_city_state',\n",
       "       'selection1_intersection', 'Unnamed: 5'],\n",
       "      dtype='object')"
      ]
     },
     "execution_count": 58,
     "metadata": {},
     "output_type": "execute_result"
    }
   ],
   "source": [
    "df.columns"
   ]
  },
  {
   "cell_type": "code",
   "execution_count": 59,
   "metadata": {},
   "outputs": [
    {
     "data": {
      "text/plain": [
       "(8158, 6)"
      ]
     },
     "execution_count": 59,
     "metadata": {},
     "output_type": "execute_result"
    }
   ],
   "source": [
    "df2.shape"
   ]
  },
  {
   "cell_type": "code",
   "execution_count": 60,
   "metadata": {},
   "outputs": [
    {
     "data": {
      "text/plain": [
       "Index(['selection1_name', 'selection1_url', 'selection1_street',\n",
       "       'selection1_street_url', 'selection1_city_state',\n",
       "       'selection1_intersection', 'Unnamed: 5'],\n",
       "      dtype='object')"
      ]
     },
     "execution_count": 60,
     "metadata": {},
     "output_type": "execute_result"
    }
   ],
   "source": [
    "df.columns"
   ]
  },
  {
   "cell_type": "code",
   "execution_count": 61,
   "metadata": {},
   "outputs": [],
   "source": [
    "df.rename(columns={'selection1_name':'name','selection1_street':'street',\n",
    "                     'selection1_city_state':'city,statezip'}, inplace=True)\n",
    "df2.rename(columns={'selection1_name':'name','selection1_street':'street',\n",
    "                     'selection1_city_state':'city,statezip'}, inplace=True)\n",
    "df.drop(['selection1_url', 'selection1_street_url', 'selection1_intersection', 'Unnamed: 5'], axis=1, inplace=True)\n",
    "df2.drop(['selection1_url', 'selection1_street_url', 'selection1_intersection'], axis=1, inplace=True)"
   ]
  },
  {
   "cell_type": "code",
   "execution_count": 62,
   "metadata": {},
   "outputs": [
    {
     "name": "stderr",
     "output_type": "stream",
     "text": [
      "C:\\Users\\Ethan Seto\\anaconda3\\lib\\site-packages\\ipykernel_launcher.py:5: SettingWithCopyWarning: \n",
      "A value is trying to be set on a copy of a slice from a DataFrame\n",
      "\n",
      "See the caveats in the documentation: https://pandas.pydata.org/pandas-docs/stable/user_guide/indexing.html#returning-a-view-versus-a-copy\n",
      "  \"\"\"\n"
     ]
    },
    {
     "data": {
      "text/plain": [
       "(5559, 3)"
      ]
     },
     "execution_count": 62,
     "metadata": {},
     "output_type": "execute_result"
    }
   ],
   "source": [
    "test = df2\n",
    "test.drop_duplicates(subset=['name','street','city,statezip'], inplace=True)\n",
    "test = test[(test.name != 'Panda Express') & (test.name != 'Pei Wei') & (test.name != 'KFC') & (test.name != 'selection1_name')\n",
    "        & (test.name != 'selection1_street') & (test.name != 'selection1_city_state') & (test.name.str.contains('P.F. Chang') == False)]\n",
    "test.dropna(inplace = True)\n",
    "test.shape"
   ]
  },
  {
   "cell_type": "code",
   "execution_count": 63,
   "metadata": {},
   "outputs": [
    {
     "name": "stderr",
     "output_type": "stream",
     "text": [
      "C:\\Users\\Ethan Seto\\anaconda3\\lib\\site-packages\\ipykernel_launcher.py:5: SettingWithCopyWarning: \n",
      "A value is trying to be set on a copy of a slice from a DataFrame\n",
      "\n",
      "See the caveats in the documentation: https://pandas.pydata.org/pandas-docs/stable/user_guide/indexing.html#returning-a-view-versus-a-copy\n",
      "  \"\"\"\n"
     ]
    },
    {
     "data": {
      "text/plain": [
       "(18572, 3)"
      ]
     },
     "execution_count": 63,
     "metadata": {},
     "output_type": "execute_result"
    }
   ],
   "source": [
    "test2 = df\n",
    "test2.drop_duplicates(subset=['name','street','city,statezip'], inplace=True)\n",
    "test2 = test2[(test2.name != 'Panda Express') & (test2.name != 'Pei Wei') & (test2.name != 'KFC') & (test2.name != 'selection1_name')\n",
    "        & (test2.name != 'selection1_street') & (test2.name != 'selection1_city_state') & (test2.name.str.contains('P.F. Chang') == False)]\n",
    "test2.dropna(inplace = True)\n",
    "test2.shape"
   ]
  },
  {
   "cell_type": "code",
   "execution_count": 64,
   "metadata": {},
   "outputs": [],
   "source": [
    "total = pd.concat([df, df2])"
   ]
  },
  {
   "cell_type": "code",
   "execution_count": 65,
   "metadata": {},
   "outputs": [
    {
     "data": {
      "text/plain": [
       "(26138, 3)"
      ]
     },
     "execution_count": 65,
     "metadata": {},
     "output_type": "execute_result"
    }
   ],
   "source": [
    "total.shape"
   ]
  },
  {
   "cell_type": "code",
   "execution_count": 66,
   "metadata": {},
   "outputs": [],
   "source": [
    "total.dropna(inplace = True)"
   ]
  },
  {
   "cell_type": "code",
   "execution_count": 67,
   "metadata": {},
   "outputs": [
    {
     "data": {
      "text/html": [
       "<div>\n",
       "<style scoped>\n",
       "    .dataframe tbody tr th:only-of-type {\n",
       "        vertical-align: middle;\n",
       "    }\n",
       "\n",
       "    .dataframe tbody tr th {\n",
       "        vertical-align: top;\n",
       "    }\n",
       "\n",
       "    .dataframe thead th {\n",
       "        text-align: right;\n",
       "    }\n",
       "</style>\n",
       "<table border=\"1\" class=\"dataframe\">\n",
       "  <thead>\n",
       "    <tr style=\"text-align: right;\">\n",
       "      <th></th>\n",
       "      <th>name</th>\n",
       "      <th>street</th>\n",
       "      <th>city,statezip</th>\n",
       "    </tr>\n",
       "  </thead>\n",
       "  <tbody>\n",
       "    <tr>\n",
       "      <th>0</th>\n",
       "      <td>Sichuanese Cuisine</td>\n",
       "      <td>1048 S Jackson St</td>\n",
       "      <td>Seattle, WA 98104</td>\n",
       "    </tr>\n",
       "    <tr>\n",
       "      <th>1</th>\n",
       "      <td>Royal Dumplings House</td>\n",
       "      <td>14725 Aurora Ave N</td>\n",
       "      <td>Shoreline, WA 98133</td>\n",
       "    </tr>\n",
       "    <tr>\n",
       "      <th>2</th>\n",
       "      <td>Xiâ€™an Noodles</td>\n",
       "      <td>5259 University Way NE</td>\n",
       "      <td>Seattle, WA 98105</td>\n",
       "    </tr>\n",
       "    <tr>\n",
       "      <th>3</th>\n",
       "      <td>Harbor City Restaurant</td>\n",
       "      <td>707 S King St</td>\n",
       "      <td>Seattle, WA 98104</td>\n",
       "    </tr>\n",
       "    <tr>\n",
       "      <th>5</th>\n",
       "      <td>19 GOLD</td>\n",
       "      <td>3601 Fremont Ave N</td>\n",
       "      <td>Seattle, WA 98103</td>\n",
       "    </tr>\n",
       "  </tbody>\n",
       "</table>\n",
       "</div>"
      ],
      "text/plain": [
       "                     name                  street        city,statezip\n",
       "0      Sichuanese Cuisine       1048 S Jackson St    Seattle, WA 98104\n",
       "1   Royal Dumplings House      14725 Aurora Ave N  Shoreline, WA 98133\n",
       "2         Xiâ€™an Noodles  5259 University Way NE    Seattle, WA 98105\n",
       "3  Harbor City Restaurant           707 S King St    Seattle, WA 98104\n",
       "5                 19 GOLD      3601 Fremont Ave N    Seattle, WA 98103"
      ]
     },
     "execution_count": 67,
     "metadata": {},
     "output_type": "execute_result"
    }
   ],
   "source": [
    "total.head()"
   ]
  },
  {
   "cell_type": "code",
   "execution_count": 68,
   "metadata": {},
   "outputs": [],
   "source": [
    "total.drop_duplicates(subset=['name','street','city,statezip'], inplace=True)"
   ]
  },
  {
   "cell_type": "code",
   "execution_count": 69,
   "metadata": {},
   "outputs": [
    {
     "data": {
      "text/plain": [
       "(23860, 3)"
      ]
     },
     "execution_count": 69,
     "metadata": {},
     "output_type": "execute_result"
    }
   ],
   "source": [
    "total.shape"
   ]
  },
  {
   "cell_type": "code",
   "execution_count": 70,
   "metadata": {},
   "outputs": [
    {
     "data": {
      "text/plain": [
       "Index(['name', 'street', 'city,statezip'], dtype='object')"
      ]
     },
     "execution_count": 70,
     "metadata": {},
     "output_type": "execute_result"
    }
   ],
   "source": [
    "total.columns"
   ]
  },
  {
   "cell_type": "code",
   "execution_count": 71,
   "metadata": {},
   "outputs": [],
   "source": [
    "total = total[(total.name != 'Panda Express') & (total.name != 'Pei Wei') & (total.name != 'KFC') & (total.name != 'selection1_name')\n",
    "        & (total.name != 'selection1_street') & (total.name != 'selection1_city_state') & (total.name.str.contains('P.F. Chang') == False)]"
   ]
  },
  {
   "cell_type": "code",
   "execution_count": 72,
   "metadata": {},
   "outputs": [
    {
     "data": {
      "text/plain": [
       "(22882, 3)"
      ]
     },
     "execution_count": 72,
     "metadata": {},
     "output_type": "execute_result"
    }
   ],
   "source": [
    "total.shape"
   ]
  },
  {
   "cell_type": "code",
   "execution_count": 73,
   "metadata": {},
   "outputs": [
    {
     "ename": "FileCreateError",
     "evalue": "[Errno 13] Permission denied: 'C:\\\\Users\\\\Ethan Seto\\\\Documents\\\\restaurants_ivy\\\\yelp_data\\\\all_restaurants.xlsx'",
     "output_type": "error",
     "traceback": [
      "\u001b[1;31m---------------------------------------------------------------------------\u001b[0m",
      "\u001b[1;31mPermissionError\u001b[0m                           Traceback (most recent call last)",
      "\u001b[1;32m~\\anaconda3\\lib\\site-packages\\xlsxwriter\\workbook.py\u001b[0m in \u001b[0;36mclose\u001b[1;34m(self)\u001b[0m\n\u001b[0;32m    315\u001b[0m             \u001b[1;32mtry\u001b[0m\u001b[1;33m:\u001b[0m\u001b[1;33m\u001b[0m\u001b[1;33m\u001b[0m\u001b[0m\n\u001b[1;32m--> 316\u001b[1;33m                 \u001b[0mself\u001b[0m\u001b[1;33m.\u001b[0m\u001b[0m_store_workbook\u001b[0m\u001b[1;33m(\u001b[0m\u001b[1;33m)\u001b[0m\u001b[1;33m\u001b[0m\u001b[1;33m\u001b[0m\u001b[0m\n\u001b[0m\u001b[0;32m    317\u001b[0m             \u001b[1;32mexcept\u001b[0m \u001b[0mIOError\u001b[0m \u001b[1;32mas\u001b[0m \u001b[0me\u001b[0m\u001b[1;33m:\u001b[0m\u001b[1;33m\u001b[0m\u001b[1;33m\u001b[0m\u001b[0m\n",
      "\u001b[1;32m~\\anaconda3\\lib\\site-packages\\xlsxwriter\\workbook.py\u001b[0m in \u001b[0;36m_store_workbook\u001b[1;34m(self)\u001b[0m\n\u001b[0;32m    631\u001b[0m         \u001b[1;32mexcept\u001b[0m \u001b[0mIOError\u001b[0m \u001b[1;32mas\u001b[0m \u001b[0me\u001b[0m\u001b[1;33m:\u001b[0m\u001b[1;33m\u001b[0m\u001b[1;33m\u001b[0m\u001b[0m\n\u001b[1;32m--> 632\u001b[1;33m             \u001b[1;32mraise\u001b[0m \u001b[0me\u001b[0m\u001b[1;33m\u001b[0m\u001b[1;33m\u001b[0m\u001b[0m\n\u001b[0m\u001b[0;32m    633\u001b[0m \u001b[1;33m\u001b[0m\u001b[0m\n",
      "\u001b[1;32m~\\anaconda3\\lib\\site-packages\\xlsxwriter\\workbook.py\u001b[0m in \u001b[0;36m_store_workbook\u001b[1;34m(self)\u001b[0m\n\u001b[0;32m    629\u001b[0m             xlsx_file = ZipFile(self.filename, \"w\", compression=ZIP_DEFLATED,\n\u001b[1;32m--> 630\u001b[1;33m                                 allowZip64=self.allow_zip64)\n\u001b[0m\u001b[0;32m    631\u001b[0m         \u001b[1;32mexcept\u001b[0m \u001b[0mIOError\u001b[0m \u001b[1;32mas\u001b[0m \u001b[0me\u001b[0m\u001b[1;33m:\u001b[0m\u001b[1;33m\u001b[0m\u001b[1;33m\u001b[0m\u001b[0m\n",
      "\u001b[1;32m~\\anaconda3\\lib\\zipfile.py\u001b[0m in \u001b[0;36m__init__\u001b[1;34m(self, file, mode, compression, allowZip64, compresslevel)\u001b[0m\n\u001b[0;32m   1239\u001b[0m                 \u001b[1;32mtry\u001b[0m\u001b[1;33m:\u001b[0m\u001b[1;33m\u001b[0m\u001b[1;33m\u001b[0m\u001b[0m\n\u001b[1;32m-> 1240\u001b[1;33m                     \u001b[0mself\u001b[0m\u001b[1;33m.\u001b[0m\u001b[0mfp\u001b[0m \u001b[1;33m=\u001b[0m \u001b[0mio\u001b[0m\u001b[1;33m.\u001b[0m\u001b[0mopen\u001b[0m\u001b[1;33m(\u001b[0m\u001b[0mfile\u001b[0m\u001b[1;33m,\u001b[0m \u001b[0mfilemode\u001b[0m\u001b[1;33m)\u001b[0m\u001b[1;33m\u001b[0m\u001b[1;33m\u001b[0m\u001b[0m\n\u001b[0m\u001b[0;32m   1241\u001b[0m                 \u001b[1;32mexcept\u001b[0m \u001b[0mOSError\u001b[0m\u001b[1;33m:\u001b[0m\u001b[1;33m\u001b[0m\u001b[1;33m\u001b[0m\u001b[0m\n",
      "\u001b[1;31mPermissionError\u001b[0m: [Errno 13] Permission denied: 'C:\\\\Users\\\\Ethan Seto\\\\Documents\\\\restaurants_ivy\\\\yelp_data\\\\all_restaurants.xlsx'",
      "\nDuring handling of the above exception, another exception occurred:\n",
      "\u001b[1;31mFileCreateError\u001b[0m                           Traceback (most recent call last)",
      "\u001b[1;32m<ipython-input-73-27164e4f36f2>\u001b[0m in \u001b[0;36m<module>\u001b[1;34m\u001b[0m\n\u001b[1;32m----> 1\u001b[1;33m \u001b[0mtotal\u001b[0m\u001b[1;33m.\u001b[0m\u001b[0mto_excel\u001b[0m \u001b[1;33m(\u001b[0m\u001b[1;34mr'C:\\Users\\Ethan Seto\\Documents\\restaurants_ivy\\yelp_data\\all_restaurants.xlsx'\u001b[0m\u001b[1;33m,\u001b[0m \u001b[0mindex\u001b[0m \u001b[1;33m=\u001b[0m \u001b[1;32mFalse\u001b[0m\u001b[1;33m,\u001b[0m \u001b[0mheader\u001b[0m\u001b[1;33m=\u001b[0m\u001b[1;32mTrue\u001b[0m\u001b[1;33m)\u001b[0m\u001b[1;33m\u001b[0m\u001b[1;33m\u001b[0m\u001b[0m\n\u001b[0m",
      "\u001b[1;32m~\\anaconda3\\lib\\site-packages\\pandas\\core\\generic.py\u001b[0m in \u001b[0;36mto_excel\u001b[1;34m(self, excel_writer, sheet_name, na_rep, float_format, columns, header, index, index_label, startrow, startcol, engine, merge_cells, encoding, inf_rep, verbose, freeze_panes)\u001b[0m\n\u001b[0;32m   2179\u001b[0m             \u001b[0mstartcol\u001b[0m\u001b[1;33m=\u001b[0m\u001b[0mstartcol\u001b[0m\u001b[1;33m,\u001b[0m\u001b[1;33m\u001b[0m\u001b[1;33m\u001b[0m\u001b[0m\n\u001b[0;32m   2180\u001b[0m             \u001b[0mfreeze_panes\u001b[0m\u001b[1;33m=\u001b[0m\u001b[0mfreeze_panes\u001b[0m\u001b[1;33m,\u001b[0m\u001b[1;33m\u001b[0m\u001b[1;33m\u001b[0m\u001b[0m\n\u001b[1;32m-> 2181\u001b[1;33m             \u001b[0mengine\u001b[0m\u001b[1;33m=\u001b[0m\u001b[0mengine\u001b[0m\u001b[1;33m,\u001b[0m\u001b[1;33m\u001b[0m\u001b[1;33m\u001b[0m\u001b[0m\n\u001b[0m\u001b[0;32m   2182\u001b[0m         )\n\u001b[0;32m   2183\u001b[0m \u001b[1;33m\u001b[0m\u001b[0m\n",
      "\u001b[1;32m~\\anaconda3\\lib\\site-packages\\pandas\\io\\formats\\excel.py\u001b[0m in \u001b[0;36mwrite\u001b[1;34m(self, writer, sheet_name, startrow, startcol, freeze_panes, engine)\u001b[0m\n\u001b[0;32m    736\u001b[0m         )\n\u001b[0;32m    737\u001b[0m         \u001b[1;32mif\u001b[0m \u001b[0mneed_save\u001b[0m\u001b[1;33m:\u001b[0m\u001b[1;33m\u001b[0m\u001b[1;33m\u001b[0m\u001b[0m\n\u001b[1;32m--> 738\u001b[1;33m             \u001b[0mwriter\u001b[0m\u001b[1;33m.\u001b[0m\u001b[0msave\u001b[0m\u001b[1;33m(\u001b[0m\u001b[1;33m)\u001b[0m\u001b[1;33m\u001b[0m\u001b[1;33m\u001b[0m\u001b[0m\n\u001b[0m",
      "\u001b[1;32m~\\anaconda3\\lib\\site-packages\\pandas\\io\\excel\\_xlsxwriter.py\u001b[0m in \u001b[0;36msave\u001b[1;34m(self)\u001b[0m\n\u001b[0;32m    193\u001b[0m         \"\"\"\n\u001b[0;32m    194\u001b[0m \u001b[1;33m\u001b[0m\u001b[0m\n\u001b[1;32m--> 195\u001b[1;33m         \u001b[1;32mreturn\u001b[0m \u001b[0mself\u001b[0m\u001b[1;33m.\u001b[0m\u001b[0mbook\u001b[0m\u001b[1;33m.\u001b[0m\u001b[0mclose\u001b[0m\u001b[1;33m(\u001b[0m\u001b[1;33m)\u001b[0m\u001b[1;33m\u001b[0m\u001b[1;33m\u001b[0m\u001b[0m\n\u001b[0m\u001b[0;32m    196\u001b[0m \u001b[1;33m\u001b[0m\u001b[0m\n\u001b[0;32m    197\u001b[0m     def write_cells(\n",
      "\u001b[1;32m~\\anaconda3\\lib\\site-packages\\xlsxwriter\\workbook.py\u001b[0m in \u001b[0;36mclose\u001b[1;34m(self)\u001b[0m\n\u001b[0;32m    316\u001b[0m                 \u001b[0mself\u001b[0m\u001b[1;33m.\u001b[0m\u001b[0m_store_workbook\u001b[0m\u001b[1;33m(\u001b[0m\u001b[1;33m)\u001b[0m\u001b[1;33m\u001b[0m\u001b[1;33m\u001b[0m\u001b[0m\n\u001b[0;32m    317\u001b[0m             \u001b[1;32mexcept\u001b[0m \u001b[0mIOError\u001b[0m \u001b[1;32mas\u001b[0m \u001b[0me\u001b[0m\u001b[1;33m:\u001b[0m\u001b[1;33m\u001b[0m\u001b[1;33m\u001b[0m\u001b[0m\n\u001b[1;32m--> 318\u001b[1;33m                 \u001b[1;32mraise\u001b[0m \u001b[0mFileCreateError\u001b[0m\u001b[1;33m(\u001b[0m\u001b[0me\u001b[0m\u001b[1;33m)\u001b[0m\u001b[1;33m\u001b[0m\u001b[1;33m\u001b[0m\u001b[0m\n\u001b[0m\u001b[0;32m    319\u001b[0m             \u001b[1;32mexcept\u001b[0m \u001b[0mLargeZipFile\u001b[0m \u001b[1;32mas\u001b[0m \u001b[0me\u001b[0m\u001b[1;33m:\u001b[0m\u001b[1;33m\u001b[0m\u001b[1;33m\u001b[0m\u001b[0m\n\u001b[0;32m    320\u001b[0m                 raise FileSizeError(\"Filesize would require ZIP64 extensions. \"\n",
      "\u001b[1;31mFileCreateError\u001b[0m: [Errno 13] Permission denied: 'C:\\\\Users\\\\Ethan Seto\\\\Documents\\\\restaurants_ivy\\\\yelp_data\\\\all_restaurants.xlsx'"
     ]
    }
   ],
   "source": [
    "total.to_excel (r'C:\\Users\\Ethan Seto\\Documents\\restaurants_ivy\\yelp_data\\all_restaurants.xlsx', index = False, header=True)"
   ]
  },
  {
   "cell_type": "code",
   "execution_count": null,
   "metadata": {},
   "outputs": [],
   "source": []
  }
 ],
 "metadata": {
  "kernelspec": {
   "display_name": "Python 3",
   "language": "python",
   "name": "python3"
  },
  "language_info": {
   "codemirror_mode": {
    "name": "ipython",
    "version": 3
   },
   "file_extension": ".py",
   "mimetype": "text/x-python",
   "name": "python",
   "nbconvert_exporter": "python",
   "pygments_lexer": "ipython3",
   "version": "3.7.7"
  }
 },
 "nbformat": 4,
 "nbformat_minor": 4
}
